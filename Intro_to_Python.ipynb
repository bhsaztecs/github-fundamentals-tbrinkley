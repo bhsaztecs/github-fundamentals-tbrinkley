{
  "nbformat": 4,
  "nbformat_minor": 0,
  "metadata": {
    "colab": {
      "provenance": [],
      "authorship_tag": "ABX9TyP3/pQOZLTVQAPfOEepJTgS",
      "include_colab_link": true
    },
    "kernelspec": {
      "name": "python3",
      "display_name": "Python 3"
    },
    "language_info": {
      "name": "python"
    }
  },
  "cells": [
    {
      "cell_type": "markdown",
      "metadata": {
        "id": "view-in-github",
        "colab_type": "text"
      },
      "source": [
        "<a href=\"https://colab.research.google.com/github/bhsaztecs/github-fundamentals-tbrinkley/blob/main/Intro_to_Python.ipynb\" target=\"_parent\"><img src=\"https://colab.research.google.com/assets/colab-badge.svg\" alt=\"Open In Colab\"/></a>"
      ]
    },
    {
      "cell_type": "markdown",
      "source": [
        "# Intro to Python\n",
        "\n",
        "This Interactive Python Note Book (.ipynb) is for introducing some basic Python functionality.  If you open this in Google's Colab, you can play with and edit it.\n",
        "```\n",
        "#This is a comment.\n",
        "'''This is a longer,\n",
        "multi-line\n",
        "comment using triple single quotes.  \n",
        "Comments are for explaining what is going on in the code.\n",
        "'''\n",
        "```\n",
        "\n"
      ],
      "metadata": {
        "id": "whBPwsXTrTnw"
      }
    },
    {
      "cell_type": "code",
      "execution_count": 37,
      "metadata": {
        "id": "ShJpcvOiHwDz"
      },
      "outputs": [],
      "source": [
        "# @title Variables\n",
        "# What makes code powerful is when you can store information.\n",
        "# So all programming languages have containers called variables.\n",
        "# In the variable below, variable \"number1\" gets 1.\n",
        "# In JavaScript, you would precede a variable with the word var for variable. e.g. var number1 = 1,\n",
        "# but since this is Python it is simlpler, like this:\n",
        "number1 = 1 #variables can be created (declared) and given a value (assigned) at the same time.\n",
        "number2 = int(21) #variables can be given a type, in this case \"int\" which means integer, declared, and assigned all on the same row.\n",
        "number3 = 0 #Any of these variables can be reassigned later.\n",
        "\n",
        "#Numbers with decimals are different than numbers without decimals.\n",
        "decimal1 = 1.1 #A decimal numbers is called \"float\" because their decimal place can float left or right depending on if it is divided or multiplied by 10, or other numbers.\n",
        "#If you specified the type for all your variables, it ends up making your program run faster, although there are a lot of other ways to speed it up too.\n",
        "decimal2 = float(2.2) #When you put the word \"float\" in there, this assigns the variable a strict type of variable.\n",
        "#You can do math with these numbers too with add \"+\" , subtract \"-\", multiply \"*\", divide \"/\", there are more too.\n",
        "decimal3 = decimal1 + decimal2 * number2 / (number1 - number3) #Math's order of operations, PEMDAS, still applies here.\n",
        "\n",
        "#ARRAYS\n",
        "#You can save a bunch of numbers or text to an array, kind of like a spreadsheet table, and even mix them together like this:\n",
        "array1D = [1,2,3,4,5,6] #Think of these all on the same row.\n",
        "array2D = [[1,2,3],\n",
        "           [\"a\",\"b\",\"c\"]] #Think of this as two rows in a spreadsheet.\n",
        "\n"
      ]
    },
    {
      "cell_type": "code",
      "source": [
        "# @title Input & Output\n",
        "#LETTERS, INPUT & OUTPUT\n",
        "letter1 = \"a\" #variables can be assigned text as long as they are in quotes, either single or double quotes\n",
        "# In the following example, str() is a function that converts whatever you put in the parenthesis to text.\n",
        "letter2 = str('a') #character-based or text variables, called \"strings\" can be identified as \"str\".\n",
        "letter3 = \"\" #With nothing between the quotes, it is basically nothing, sort of the like the text version of the number 0.\n",
        "#This variable is just text:\n",
        "askQuestion1 = \"What is your name?\\n\" # The \"\\n\" means new line. When the first letter is lowercase and the next word's first letter is uppercase, it is called cAmElCase.\n",
        "#If you wanted it to wait for the user to type something in and save the answer to a variable, you could do this:\n",
        "name = input(askQuestion1)\n",
        "\n",
        "#You can print what the variables are storing to the screen using the built-in print function: print() like this:\n",
        "print(number1)\n",
        "print(number2)\n",
        "\n",
        "#You can put more than one variable together (concatenate) like this:\n",
        "print(number1,number2)\n",
        "\n",
        "#You can add variables together like this:\n",
        "print(number1+number2)\n",
        "\n",
        "#If you want to mix text with a variable's value, you can put them together like this:\n",
        "print(\"Okay\",name,\"nice to meet you.  My name is Python.  \\nWhat do you think of all these variable outputs?\")\n",
        "answer1 = input()\n",
        "\n",
        "#Go ahead and press the Play button left of this cell to run this in Google Colab."
      ],
      "metadata": {
        "colab": {
          "base_uri": "https://localhost:8080/"
        },
        "id": "u2XXGV-I0Rip",
        "outputId": "c02f3ad2-767e-4321-d016-61ddbed46cfe"
      },
      "execution_count": 39,
      "outputs": [
        {
          "name": "stdout",
          "output_type": "stream",
          "text": [
            "What is your name?\n",
            "Timothy\n",
            "1\n",
            "21\n",
            "1 21\n",
            "22\n",
            "Okay Timothy nice to meet you.  My name is Python.  \n",
            "What do you think of all these variable outputs?\n",
            "Interesting\n"
          ]
        }
      ]
    },
    {
      "cell_type": "code",
      "source": [
        "# @title Special Cases for Output\n",
        "#If you add a number and text together, you get an error, so you have to convert the number to text before your print it:\n",
        "print(str(number1)+letter1+\":\") #str() converts the number to text and then we add a colon at the end.\n",
        "\n",
        "#You can't really convert a letter to a number in the base10 counting system without some more advanced conversion functions.\n",
        "#so this gives an error: print(number1+int(letter1))\n",
        "\n",
        "#To print an array, it is very similar:\n",
        "print(\"Here is the array or one dimensional table:\",array1D)\n",
        "print(\"Two dimensional array:\",array2D)\n",
        "\n",
        "#Of couse there are prettier ways to give the output, but we would have to use other library and loops to make those work. We're not there yet.\n"
      ],
      "metadata": {
        "colab": {
          "base_uri": "https://localhost:8080/"
        },
        "id": "5FbbhNuL1Mpq",
        "outputId": "27226b05-aa1c-44f7-bc48-77f7dc73ee3d"
      },
      "execution_count": 41,
      "outputs": [
        {
          "output_type": "stream",
          "name": "stdout",
          "text": [
            "1a:\n",
            "Here is the array or one dimensional table: [1, 2, 3, 4, 5, 6]\n",
            "Two dimensional array: [[1, 2, 3], ['a', 'b', 'c']]\n"
          ]
        }
      ]
    },
    {
      "cell_type": "code",
      "source": [
        "# @title Functions\n",
        "\n",
        "#FUNCTIONS\n",
        "'''Functions are like mini programs that you can use over and over to do something.\n",
        "They all start with the word \"def\"\n",
        "which stands for \"define\".\n",
        "A best practice I would like you to use is right after the name of the function, describe what it does.\n",
        "Like this:  '''\n",
        "def printSeparator():\n",
        "  '''Using this function prints a bunch of hyphens/dashes/minus signs. Use as a separator between sections.'''\n",
        "  print(\"---------------------------\")\n",
        "\n",
        "#If you get an error, check if your function is created/ described before the place that it is called.\n",
        "#Notice, that we create the function above, and call it below in the CONDITIONALS section.\n"
      ],
      "metadata": {
        "id": "gOsxNwZ_2AYz"
      },
      "execution_count": null,
      "outputs": []
    },
    {
      "cell_type": "code",
      "source": [
        "# @title Conditionals\n",
        "#If you want to check on something before showing a result or doing something, we use something called a \"conditional\".  Here is an example.\n",
        "#Here is a conditional.  \"==\" compares both sides to see if they are equal. Notice there are no curly braces \"{}\", just a semicolon \":\" and an indent.\n",
        "print() #This only adds a line break when it is by itself, or you could use a \"\\n\", as shown previously.\n",
        "print(\"CONDITIONALS\")\n",
        "if (number1 == 1):\n",
        "  print(\"Since the variable \\\"number1\\\" equals 1, I will show you the contents of the variable \\\"letter1\\\":\",letter1) #This line has to be indented, or it won't work correctly.\n",
        "\n",
        "#There are a lot of what to check conditions, \"==\" is just one.  Others include \"<\", \">\", \"!=\", \"<=\", \">=\".\n",
        "#If you wanted to check two things at a time, can use the word \"and\" or \"or\", among others.  Here is an example.\n",
        "if (number1 == 1 and number2 > 1):  #Notice the word \"and\" allows us to check two conditions.\n",
        "  print(\"Good job,\", name)\n",
        "  printSeparator()"
      ],
      "metadata": {
        "colab": {
          "base_uri": "https://localhost:8080/"
        },
        "id": "X1NO1LZj2eDa",
        "outputId": "f78fbe19-9de2-4e43-afad-1e8b1111e00c"
      },
      "execution_count": 49,
      "outputs": [
        {
          "output_type": "stream",
          "name": "stdout",
          "text": [
            "\n",
            "CONDITIONALS\n",
            "Since the variable \"number1\" equals 1, I will show you the contents of the variable \"letter1\": a\n",
            "Good job, Timothy\n",
            "---------------------------\n"
          ]
        }
      ]
    },
    {
      "cell_type": "code",
      "source": [
        "# @title Functions with arguments\n",
        "'''A function can also be given information to do something with it.\n",
        "For example the function above str() takes whatever you put in the parenthesis and turns it into a piece of text, e.g. 0 becomes \"0\".\n",
        "For example the print() function takes several parameters and outputs them to the screen/ console.\n",
        "This sections gives examples of how to create this kind of function.'''\n",
        "\n",
        "#You start by creating a name that is not protected.  You can create a function called print() because that is already taken.\n",
        "def add(num1,num2): #num1 and num2 are called arguments here.\n",
        "  '''Adds any two numbers together if they are numbers.'''\n",
        "  #We know we are inside the function because of the indentated space.\n",
        "  print(\"Sum:\",num1+num2) #Down here num1 and num2 are veriables you can use only inside of this function.\n",
        "\n",
        "add(1,2) #But here, num1 and num2 are called parameters.\n"
      ],
      "metadata": {
        "colab": {
          "base_uri": "https://localhost:8080/"
        },
        "id": "Xw2qro8u3yf5",
        "outputId": "de37fa7e-3c3f-45ff-99c2-eca5279fa3f7"
      },
      "execution_count": 14,
      "outputs": [
        {
          "output_type": "stream",
          "name": "stdout",
          "text": [
            "Sum: 3\n"
          ]
        }
      ]
    },
    {
      "cell_type": "code",
      "source": [],
      "metadata": {
        "id": "RtQ0MivRTmY_"
      },
      "execution_count": null,
      "outputs": []
    }
  ]
}