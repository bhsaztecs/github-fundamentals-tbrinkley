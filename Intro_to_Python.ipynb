{
  "nbformat": 4,
  "nbformat_minor": 0,
  "metadata": {
    "colab": {
      "provenance": [],
      "authorship_tag": "ABX9TyOtD23UOWTELbNyEOmsxajj",
      "include_colab_link": true
    },
    "kernelspec": {
      "name": "python3",
      "display_name": "Python 3"
    },
    "language_info": {
      "name": "python"
    }
  },
  "cells": [
    {
      "cell_type": "markdown",
      "metadata": {
        "id": "view-in-github",
        "colab_type": "text"
      },
      "source": [
        "<a href=\"https://colab.research.google.com/github/bhsaztecs/github-fundamentals-tbrinkley/blob/main/Intro_to_Python.ipynb\" target=\"_parent\"><img src=\"https://colab.research.google.com/assets/colab-badge.svg\" alt=\"Open In Colab\"/></a>"
      ]
    },
    {
      "cell_type": "code",
      "execution_count": 12,
      "metadata": {
        "colab": {
          "base_uri": "https://localhost:8080/"
        },
        "id": "ShJpcvOiHwDz",
        "outputId": "45cad241-3f84-42a0-9ab0-4304c55ab9ca"
      },
      "outputs": [
        {
          "output_type": "stream",
          "name": "stdout",
          "text": [
            "1\n",
            "21\n",
            "1 21\n",
            "22\n",
            "Since number1 equals 1, I will show you letter1: a\n"
          ]
        }
      ],
      "source": [
        "number1 = 1\n",
        "number2 = 21\n",
        "letter1 = \"a\"\n",
        "sentence = \"What is your name?\\n\"\n",
        "array = [1,2,3,4,5,6]\n",
        "print(number1)\n",
        "print(number2)\n",
        "print(number1,number2)\n",
        "print(number1+number2)\n",
        "if (number1 == 1):\n",
        "  print(\"Since number1 equals 1, I will show you letter1:\",letter1)"
      ]
    }
  ]
}